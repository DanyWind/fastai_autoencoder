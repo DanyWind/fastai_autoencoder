{
 "cells": [
  {
   "cell_type": "code",
   "execution_count": 1,
   "metadata": {},
   "outputs": [],
   "source": [
    "from fastai import *\n",
    "from fastai.vision import *\n",
    "from pathlib import Path\n",
    "\n",
    "from fastai_autoencoder.bottleneck import VAEBottleneck\n",
    "from fastai_autoencoder.decoder import SpatialDecoder2D\n",
    "from fastai_autoencoder.callback import VAEHook\n",
    "from fastai_autoencoder.util import *\n",
    "from fastai_autoencoder.vision.learn import VisionAELearner"
   ]
  },
  {
   "cell_type": "code",
   "execution_count": 61,
   "metadata": {},
   "outputs": [],
   "source": [
    "def params_to_str(d) : return {k:str(v) for k,v in d.items()}\n",
    "\n",
    "PARAMS = {\n",
    "    \"data\":\"MNIST_TINY\",\n",
    "    \"size\":64,\n",
    "    \"bs\":64,\n",
    "    \"conv\":nn.Conv2d,\n",
    "    \"act_fn\":nn.ReLU,\n",
    "    \"bn\":nn.BatchNorm2d,\n",
    "    \"rec_loss\":\"mse\",\n",
    "    \"nfs_enc\":[1,4,8,16,32],\n",
    "    \"ks_enc\" :[7,3,3,3],\n",
    "    \"nfs_bn\":[512,32],\n",
    "    \"nfs_dec\":[32,64,16,4,1],\n",
    "    \"ks_dec\":[3,3,3],\n",
    "    \"beta_kl\":1,\n",
    "    \"n_epochs\":[150,75],\n",
    "    \"lrs\" : [1e-2,1e-2 /2]\n",
    "}"
   ]
  },
  {
   "cell_type": "code",
   "execution_count": 64,
   "metadata": {},
   "outputs": [],
   "source": []
  },
  {
   "cell_type": "code",
   "execution_count": 65,
   "metadata": {},
   "outputs": [],
   "source": [
    "tfms = get_transforms(do_flip = False)\n",
    "size = PARAMS[\"size\"]\n",
    "bs = PARAMS[\"bs\"]\n",
    "data = (ImageList.from_folder(path/\"train\")\n",
    "        .split_by_rand_pct(seed=42)\n",
    "        .label_from_folder()\n",
    "        .transform(tfms,size = size)\n",
    "        .databunch(bs = bs))\n",
    "\n",
    "def get_one_channel(batch):\n",
    "    x,y = batch\n",
    "    return x[:,0,:,:].unsqueeze(1),y\n",
    "get_one_channel._order = 99\n",
    "\n",
    "data.add_tfm(get_one_channel)"
   ]
  },
  {
   "cell_type": "code",
   "execution_count": 55,
   "metadata": {},
   "outputs": [],
   "source": [
    "import uuid\n",
    "import imageio\n",
    "from functools import partial\n",
    "\n",
    "train = pd.read_csv(\"mnist_fashion/fashion-mnist_test.csv\")\n",
    "\n",
    "output_path = Path(\"mnist_fashion/test\")\n",
    "if not output_path.exists():\n",
    "    output_path.mkdir()\n",
    "\n",
    "def row_to_jpg(row,output_path):\n",
    "\n",
    "    x,y = row[1:],row[0]\n",
    "\n",
    "    folder = output_path/str(y)\n",
    "    if not folder.exists():\n",
    "        folder.mkdir()\n",
    "    name = uuid.uuid4().hex + \".jpg\"\n",
    "\n",
    "    img = x.reshape(28,28,1)\n",
    "    img = np.concatenate([img,img,img],axis = -1).astype(np.uint8)\n",
    "\n",
    "    imageio.imwrite(folder/name, img)"
   ]
  },
  {
   "cell_type": "code",
   "execution_count": 56,
   "metadata": {},
   "outputs": [],
   "source": [
    "f = partial(row_to_jpg,output_path=output_path)"
   ]
  },
  {
   "cell_type": "code",
   "execution_count": 57,
   "metadata": {},
   "outputs": [
    {
     "data": {
      "text/plain": [
       "0       None\n",
       "1       None\n",
       "2       None\n",
       "3       None\n",
       "4       None\n",
       "5       None\n",
       "6       None\n",
       "7       None\n",
       "8       None\n",
       "9       None\n",
       "10      None\n",
       "11      None\n",
       "12      None\n",
       "13      None\n",
       "14      None\n",
       "15      None\n",
       "16      None\n",
       "17      None\n",
       "18      None\n",
       "19      None\n",
       "20      None\n",
       "21      None\n",
       "22      None\n",
       "23      None\n",
       "24      None\n",
       "25      None\n",
       "26      None\n",
       "27      None\n",
       "28      None\n",
       "29      None\n",
       "        ... \n",
       "9970    None\n",
       "9971    None\n",
       "9972    None\n",
       "9973    None\n",
       "9974    None\n",
       "9975    None\n",
       "9976    None\n",
       "9977    None\n",
       "9978    None\n",
       "9979    None\n",
       "9980    None\n",
       "9981    None\n",
       "9982    None\n",
       "9983    None\n",
       "9984    None\n",
       "9985    None\n",
       "9986    None\n",
       "9987    None\n",
       "9988    None\n",
       "9989    None\n",
       "9990    None\n",
       "9991    None\n",
       "9992    None\n",
       "9993    None\n",
       "9994    None\n",
       "9995    None\n",
       "9996    None\n",
       "9997    None\n",
       "9998    None\n",
       "9999    None\n",
       "Length: 10000, dtype: object"
      ]
     },
     "execution_count": 57,
     "metadata": {},
     "output_type": "execute_result"
    }
   ],
   "source": [
    "test.apply(f,axis=1,raw=True)"
   ]
  },
  {
   "cell_type": "code",
   "execution_count": 17,
   "metadata": {},
   "outputs": [
    {
     "data": {
      "text/plain": [
       "<matplotlib.image.AxesImage at 0x7f1c63937390>"
      ]
     },
     "execution_count": 17,
     "metadata": {},
     "output_type": "execute_result"
    },
    {
     "data": {
      "image/png": "[encoded data removed]",
      "text/plain": [
       "<Figure size 432x288 with 1 Axes>"
      ]
     },
     "metadata": {
      "needs_background": "light"
     },
     "output_type": "display_data"
    }
   ],
   "source": [
    "\n",
    "plt.imshow(img)"
   ]
  },
  {
   "cell_type": "code",
   "execution_count": null,
   "metadata": {},
   "outputs": [],
   "source": []
  }
 ],
 "metadata": {
  "kernelspec": {
   "display_name": "Python 3",
   "language": "python",
   "name": "python3"
  },
  "language_info": {
   "codemirror_mode": {
    "name": "ipython",
    "version": 3
   },
   "file_extension": ".py",
   "mimetype": "text/x-python",
   "name": "python",
   "nbconvert_exporter": "python",
   "pygments_lexer": "ipython3",
   "version": "3.7.3"
  }
 },
 "nbformat": 4,
 "nbformat_minor": 2
}
